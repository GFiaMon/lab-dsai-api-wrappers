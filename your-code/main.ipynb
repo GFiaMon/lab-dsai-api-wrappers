{
 "cells": [
  {
   "cell_type": "markdown",
   "id": "bd0a3905-b346-43d5-9791-d3869299eb9d",
   "metadata": {},
   "source": [
    "# API wrappers"
   ]
  },
  {
   "cell_type": "markdown",
   "id": "327b4075-5374-4ecf-b8c5-c106d20d80e1",
   "metadata": {},
   "source": [
    "The OpenWeatherMap offers REST endpoints for querying current weather, forecasts, historical data, etc. However, accessing this data directly via the REST API requires handling multiple API calls, query parameters, and response parsing. The pyowm library abstracts these complexities and provides useful built-in functionalities."
   ]
  },
  {
   "cell_type": "markdown",
   "id": "1d731d49-fd79-44c8-8f72-68194c99fec0",
   "metadata": {},
   "source": [
    "After signing in to OpenWeatherMap retrieve your api key at https://home.openweathermap.org/api_keys\n",
    "\n",
    "You will also need to install the pyowm package: pip install pyowm "
   ]
  },
  {
   "cell_type": "code",
   "execution_count": 63,
   "id": "e9780f3f",
   "metadata": {},
   "outputs": [],
   "source": [
    "# pip install pyowm"
   ]
  },
  {
   "cell_type": "code",
   "execution_count": 79,
   "id": "63b327b1-338b-4b14-a5b5-1bd8741da64b",
   "metadata": {},
   "outputs": [],
   "source": [
    "import requests\n",
    "import pyowm\n",
    "import json\n",
    "\n",
    "api_key = '273c127bdbacc8dd592d2fa9f81d48da'"
   ]
  },
  {
   "cell_type": "markdown",
   "id": "f73d3029-c6a6-43b9-81a9-0e81c13bdf09",
   "metadata": {},
   "source": [
    "## use case 1: managing API keys\n",
    "\n",
    "In a raw rest API call you always have to manage credentials in each individual call. Wrappers usually store and manage the authentication for you"
   ]
  },
  {
   "cell_type": "code",
   "execution_count": 80,
   "id": "afbcdf71-845e-4aae-b8cc-8963745f7d4b",
   "metadata": {},
   "outputs": [
    {
     "data": {
      "text/plain": [
       "{'coord': {'lon': -0.1257, 'lat': 51.5085},\n",
       " 'weather': [{'id': 801,\n",
       "   'main': 'Clouds',\n",
       "   'description': 'few clouds',\n",
       "   'icon': '02d'}],\n",
       " 'base': 'stations',\n",
       " 'main': {'temp': 15.31,\n",
       "  'feels_like': 14.46,\n",
       "  'temp_min': 12.95,\n",
       "  'temp_max': 16.18,\n",
       "  'pressure': 1022,\n",
       "  'humidity': 60,\n",
       "  'sea_level': 1022,\n",
       "  'grnd_level': 1017},\n",
       " 'visibility': 10000,\n",
       " 'wind': {'speed': 2.24, 'deg': 41, 'gust': 3.58},\n",
       " 'clouds': {'all': 21},\n",
       " 'dt': 1745499516,\n",
       " 'sys': {'type': 2,\n",
       "  'id': 268730,\n",
       "  'country': 'GB',\n",
       "  'sunrise': 1745469938,\n",
       "  'sunset': 1745521877},\n",
       " 'timezone': 3600,\n",
       " 'id': 2643743,\n",
       " 'name': 'London',\n",
       " 'cod': 200}"
      ]
     },
     "execution_count": 80,
     "metadata": {},
     "output_type": "execute_result"
    }
   ],
   "source": [
    "#You can get current weather data by making a GET request to an endpoint like:\n",
    "\n",
    "params = {\n",
    "    'appid' : api_key,\n",
    "    'units': 'metric'  # <-- Add this line to get Celsius directly!   \n",
    "}\n",
    "\n",
    "response = requests.get('https://api.openweathermap.org/data/2.5/weather?q=London', params = params)\n",
    "\n",
    "json.loads(response.text)\n",
    "\n",
    "#but for every call you make using GET from now on you do need to add the parameters, since the raw API does not manage authentication for you"
   ]
  },
  {
   "cell_type": "code",
   "execution_count": 81,
   "id": "80e02aea",
   "metadata": {},
   "outputs": [
    {
     "data": {
      "text/plain": [
       "{'coord': {'lon': -0.1257, 'lat': 51.5085},\n",
       " 'weather': [{'id': 801,\n",
       "   'main': 'Clouds',\n",
       "   'description': 'few clouds',\n",
       "   'icon': '02d'}],\n",
       " 'base': 'stations',\n",
       " 'main': {'temp': 15.31,\n",
       "  'feels_like': 14.46,\n",
       "  'temp_min': 12.95,\n",
       "  'temp_max': 16.18,\n",
       "  'pressure': 1022,\n",
       "  'humidity': 60,\n",
       "  'sea_level': 1022,\n",
       "  'grnd_level': 1017},\n",
       " 'visibility': 10000,\n",
       " 'wind': {'speed': 2.24, 'deg': 41, 'gust': 3.58},\n",
       " 'clouds': {'all': 21},\n",
       " 'dt': 1745499516,\n",
       " 'sys': {'type': 2,\n",
       "  'id': 268730,\n",
       "  'country': 'GB',\n",
       "  'sunrise': 1745469938,\n",
       "  'sunset': 1745521877},\n",
       " 'timezone': 3600,\n",
       " 'id': 2643743,\n",
       " 'name': 'London',\n",
       " 'cod': 200}"
      ]
     },
     "execution_count": 81,
     "metadata": {},
     "output_type": "execute_result"
    }
   ],
   "source": [
    "requests.get('https://api.openweathermap.org/data/2.5/weather?q=London', params = params).json()\n"
   ]
  },
  {
   "cell_type": "markdown",
   "id": "b82c585b-fd83-4f59-9d46-14225f3e5037",
   "metadata": {},
   "source": [
    "Most wrappers (pyowm included) include some way of initializing a session with the authentication key that you then don't need to type again.\n",
    "\n",
    "Initialize pyowm with the default configuration. Thenopen the weather manager\n",
    "\n",
    "Check out a snippet here: https://pyowm.readthedocs.io/en/latest/v3/code-recipes.html#weather_data"
   ]
  },
  {
   "cell_type": "code",
   "execution_count": 82,
   "id": "f376d466-5a69-4a47-b35d-1870cbef61ff",
   "metadata": {},
   "outputs": [
    {
     "name": "stdout",
     "output_type": "stream",
     "text": [
      "<pyowm.weatherapi25.weather.Weather - reference_time=2025-04-24 12:59:47+00:00, status=clouds, detailed_status=few clouds>\n",
      "Clouds\n",
      "few clouds\n",
      "{'temp': 15.31, 'temp_max': 16.18, 'temp_min': 12.95, 'feels_like': 14.46, 'temp_kf': None}\n"
     ]
    }
   ],
   "source": [
    "#your code here\n",
    "from pyowm.owm import OWM\n",
    "\n",
    "\n",
    "owm = OWM('273c127bdbacc8dd592d2fa9f81d48da')\n",
    "mgr = owm.weather_manager()\n",
    "observation = mgr.weather_at_place('London,GB')  # the observation object is a box containing a weather object\n",
    "weather = observation.weather\n",
    "weather.status           # short version of status (eg. 'Rain')\n",
    "weather.detailed_status  # detailed version of status (eg. 'light rain')\n",
    "\n",
    "print(weather)\n",
    "print(weather.status)  # e.g., \"Clouds\", \"Rain\"\n",
    "print(weather.detailed_status)  # detailed version of status (eg. 'light rain')\n",
    "\n",
    "print(weather.temperature('celsius'))  # Temperature in Celsius"
   ]
  },
  {
   "cell_type": "code",
   "execution_count": 83,
   "id": "6a24f65e",
   "metadata": {},
   "outputs": [
    {
     "name": "stdout",
     "output_type": "stream",
     "text": [
      "{'reception_time': 1745499864, 'location': {'name': 'London', 'coordinates': {'lon': -0.1257, 'lat': 51.5085}, 'ID': 2643743, 'country': 'GB'}, 'weather': {'reference_time': 1745499587, 'sunset_time': 1745521877, 'sunrise_time': 1745469938, 'clouds': 21, 'rain': {}, 'snow': {}, 'wind': {'speed': 2.24, 'deg': 41, 'gust': 3.58}, 'humidity': 60, 'pressure': {'press': 1022, 'sea_level': 1022}, 'temperature': {'temp': 288.46, 'temp_kf': None, 'temp_max': 289.33, 'temp_min': 286.1, 'feels_like': 287.61}, 'status': 'Clouds', 'detailed_status': 'few clouds', 'weather_code': 801, 'weather_icon_name': '02d', 'visibility_distance': 10000, 'dewpoint': None, 'humidex': None, 'heat_index': None, 'utc_offset': 3600, 'uvi': None, 'precipitation_probability': None}}\n"
     ]
    }
   ],
   "source": [
    "# The Observation object contains ALL the raw data\n",
    "full_data_dict = observation.to_dict()  # <-- This gives you the raw JSON-like data!\n",
    "\n",
    "print(full_data_dict)  # Same as the raw API response!"
   ]
  },
  {
   "cell_type": "code",
   "execution_count": 84,
   "id": "682b9512",
   "metadata": {},
   "outputs": [],
   "source": [
    "mgr = owm.weather_manager()\n"
   ]
  },
  {
   "cell_type": "code",
   "execution_count": 70,
   "id": "4d13ba03",
   "metadata": {},
   "outputs": [
    {
     "data": {
      "text/plain": [
       "['af',\n",
       " 'al',\n",
       " 'ar',\n",
       " 'az',\n",
       " 'bg',\n",
       " 'ca',\n",
       " 'cz',\n",
       " 'da',\n",
       " 'de',\n",
       " 'el',\n",
       " 'en',\n",
       " 'es',\n",
       " 'eu',\n",
       " 'fa',\n",
       " 'fi',\n",
       " 'fr',\n",
       " 'gl',\n",
       " 'he',\n",
       " 'hi',\n",
       " 'hr',\n",
       " 'hu',\n",
       " 'id',\n",
       " 'it',\n",
       " 'ja',\n",
       " 'kr',\n",
       " 'la',\n",
       " 'lt',\n",
       " 'mk',\n",
       " 'nl',\n",
       " 'no',\n",
       " 'pl',\n",
       " 'pt',\n",
       " 'pt_br',\n",
       " 'ro',\n",
       " 'ru',\n",
       " 'se',\n",
       " 'sk',\n",
       " 'sl',\n",
       " 'sp',\n",
       " 'sr',\n",
       " 'sv',\n",
       " 'th',\n",
       " 'tr',\n",
       " 'ua',\n",
       " 'uk',\n",
       " 'vi',\n",
       " 'zh_cn',\n",
       " 'zh_tw',\n",
       " 'zu']"
      ]
     },
     "execution_count": 70,
     "metadata": {},
     "output_type": "execute_result"
    }
   ],
   "source": [
    "owm.supported_languages\n",
    "# config_dict = owm.configuration"
   ]
  },
  {
   "cell_type": "code",
   "execution_count": 71,
   "id": "4e9b7aa8",
   "metadata": {},
   "outputs": [
    {
     "name": "stdout",
     "output_type": "stream",
     "text": [
      "{'temp': 19.02, 'temp_max': 20.52, 'temp_min': 17.82, 'feels_like': 19.07, 'temp_kf': None}\n"
     ]
    }
   ],
   "source": [
    "observation = mgr.weather_at_place('Buenos Aires')  # the observation object is a box containing a weather object\n",
    "weather = observation.weather\n",
    "\n",
    "print(weather.temperature('celsius'))  # Temperature in Celsius"
   ]
  },
  {
   "cell_type": "markdown",
   "id": "bf27a465",
   "metadata": {},
   "source": []
  },
  {
   "cell_type": "markdown",
   "id": "840060e4-d3de-4b96-bb03-5bce02003f1d",
   "metadata": {},
   "source": [
    "## use case 2: Simplified calls\n",
    "\n",
    "With the raw REST API, you'd have to build a URL manually, send the request, and parse the JSON response to get the current weather."
   ]
  },
  {
   "cell_type": "code",
   "execution_count": 72,
   "id": "a2aa8395-0bed-4098-8881-0ffe93541b1f",
   "metadata": {},
   "outputs": [
    {
     "name": "stdout",
     "output_type": "stream",
     "text": [
      "Temperature: 18.56°C, Humidity: 51%, Wind Speed: 6.17 m/s\n"
     ]
    }
   ],
   "source": [
    "city = 'Berlin'\n",
    "url = f'http://api.openweathermap.org/data/2.5/weather?q={city}'\n",
    "\n",
    "response = requests.get(url,params= params)\n",
    "data = response.json()\n",
    "temperature = data['main']['temp']\n",
    "humidity = data['main']['humidity']\n",
    "wind_speed = data['wind']['speed']\n",
    "\n",
    "print(f\"Temperature: {temperature}°C, Humidity: {humidity}%, Wind Speed: {wind_speed} m/s\")"
   ]
  },
  {
   "cell_type": "markdown",
   "id": "df5bc6df-bfb2-416d-8d06-3961d3a12234",
   "metadata": {},
   "source": [
    "Get the equivalent call as above for the city of London using the pyowm package"
   ]
  },
  {
   "cell_type": "code",
   "execution_count": 73,
   "id": "d1986770-4628-480b-b587-9ff5c42d301c",
   "metadata": {},
   "outputs": [
    {
     "name": "stdout",
     "output_type": "stream",
     "text": [
      "Temperature: 15.12°C, Humidity: 60%, Wind Speed: 1.34 m/s\n"
     ]
    }
   ],
   "source": [
    "#your code here\n",
    "observation = mgr.weather_at_place('London')  # the observation object is a box containing a weather object\n",
    "weather = observation.weather\n",
    "\n",
    "temperature = weather.temperature('celsius')['temp']\n",
    "humidity = weather.humidity#['humidity']\n",
    "wind_speed = weather.wind()['speed']\n",
    "\n",
    "print(f\"Temperature: {temperature}°C, Humidity: {humidity}%, Wind Speed: {wind_speed} m/s\")"
   ]
  },
  {
   "cell_type": "code",
   "execution_count": 74,
   "id": "9aa46696",
   "metadata": {},
   "outputs": [
    {
     "data": {
      "text/plain": [
       "15.12"
      ]
     },
     "execution_count": 74,
     "metadata": {},
     "output_type": "execute_result"
    }
   ],
   "source": [
    "temperature"
   ]
  },
  {
   "cell_type": "markdown",
   "id": "7e7b93b2-c383-4e49-8fce-a0923ac59031",
   "metadata": {},
   "source": [
    "## use case 3: Combining and chaining calls\n",
    "\n",
    "Wrappers often offer methods that make multiple calls to batch requests that make sense to batch. And often they offer methods that make sequences of calls that each returns information necessary to make the next call."
   ]
  },
  {
   "cell_type": "markdown",
   "id": "8f4a6b6c-f397-48ce-a3ef-f88e1fb95eb9",
   "metadata": {},
   "source": [
    "For example, to get a weather forecast for a specific city using the raw API you need to first geocode the city to get its latitude and longitude:"
   ]
  },
  {
   "cell_type": "code",
   "execution_count": 75,
   "id": "d182cf31-80f8-4b61-8de0-897d2d6479d7",
   "metadata": {},
   "outputs": [],
   "source": [
    "city = 'New York'\n",
    "geocode_url = f'http://api.openweathermap.org/data/2.5/weather?q={city}'\n",
    "geocode_response = requests.get(geocode_url,params=params).json()\n",
    "\n",
    "lat = geocode_response['coord']['lat']\n",
    "lon = geocode_response['coord']['lon']"
   ]
  },
  {
   "cell_type": "markdown",
   "id": "547c5deb-1070-4b72-b035-32ea5a615eda",
   "metadata": {},
   "source": [
    "Then, request the weather forecast for that latitude/longitude:"
   ]
  },
  {
   "cell_type": "code",
   "execution_count": 76,
   "id": "03737eff-cbc6-412f-b6a1-03e28b39b1e4",
   "metadata": {},
   "outputs": [
    {
     "name": "stdout",
     "output_type": "stream",
     "text": [
      "Time: 2025-04-24 15:00:00, Temp: 18.42°C\n",
      "Time: 2025-04-24 18:00:00, Temp: 22.55°C\n",
      "Time: 2025-04-24 21:00:00, Temp: 24.54°C\n",
      "Time: 2025-04-25 00:00:00, Temp: 20.16°C\n",
      "Time: 2025-04-25 03:00:00, Temp: 16.15°C\n",
      "Time: 2025-04-25 06:00:00, Temp: 16.87°C\n",
      "Time: 2025-04-25 09:00:00, Temp: 15.31°C\n",
      "Time: 2025-04-25 12:00:00, Temp: 15.83°C\n",
      "Time: 2025-04-25 15:00:00, Temp: 20.41°C\n",
      "Time: 2025-04-25 18:00:00, Temp: 20.2°C\n",
      "Time: 2025-04-25 21:00:00, Temp: 18.53°C\n",
      "Time: 2025-04-26 00:00:00, Temp: 17.43°C\n",
      "Time: 2025-04-26 03:00:00, Temp: 15.28°C\n",
      "Time: 2025-04-26 06:00:00, Temp: 15.1°C\n",
      "Time: 2025-04-26 09:00:00, Temp: 14.69°C\n",
      "Time: 2025-04-26 12:00:00, Temp: 15.82°C\n",
      "Time: 2025-04-26 15:00:00, Temp: 17.44°C\n",
      "Time: 2025-04-26 18:00:00, Temp: 21.1°C\n",
      "Time: 2025-04-26 21:00:00, Temp: 18.35°C\n",
      "Time: 2025-04-27 00:00:00, Temp: 14.02°C\n",
      "Time: 2025-04-27 03:00:00, Temp: 10.91°C\n",
      "Time: 2025-04-27 06:00:00, Temp: 9.58°C\n",
      "Time: 2025-04-27 09:00:00, Temp: 9.56°C\n",
      "Time: 2025-04-27 12:00:00, Temp: 9.99°C\n",
      "Time: 2025-04-27 15:00:00, Temp: 11.96°C\n",
      "Time: 2025-04-27 18:00:00, Temp: 15.5°C\n",
      "Time: 2025-04-27 21:00:00, Temp: 17.98°C\n",
      "Time: 2025-04-28 00:00:00, Temp: 15.75°C\n",
      "Time: 2025-04-28 03:00:00, Temp: 13.35°C\n",
      "Time: 2025-04-28 06:00:00, Temp: 12.17°C\n",
      "Time: 2025-04-28 09:00:00, Temp: 11.27°C\n",
      "Time: 2025-04-28 12:00:00, Temp: 12.38°C\n",
      "Time: 2025-04-28 15:00:00, Temp: 17.77°C\n",
      "Time: 2025-04-28 18:00:00, Temp: 21.73°C\n",
      "Time: 2025-04-28 21:00:00, Temp: 22.15°C\n",
      "Time: 2025-04-29 00:00:00, Temp: 20.01°C\n",
      "Time: 2025-04-29 03:00:00, Temp: 17.4°C\n",
      "Time: 2025-04-29 06:00:00, Temp: 15.91°C\n",
      "Time: 2025-04-29 09:00:00, Temp: 14.87°C\n",
      "Time: 2025-04-29 12:00:00, Temp: 15.76°C\n"
     ]
    }
   ],
   "source": [
    "forecast_url = f'http://api.openweathermap.org/data/2.5/forecast?lat={lat}&lon={lon}'\n",
    "forecast_response = requests.get(forecast_url, params=params).json()\n",
    "\n",
    "for entry in forecast_response['list']:\n",
    "    print(f\"Time: {entry['dt_txt']}, Temp: {entry['main']['temp']}°C\")"
   ]
  },
  {
   "cell_type": "markdown",
   "id": "f75ab558-7500-40fa-a4aa-93a18053059a",
   "metadata": {},
   "source": [
    "Two calls: one for geocoding, one for forecasts.\n",
    "But with pyowm, because this is a common operation, there is a method that handles the geocoding internally and then fetches the weather forecast in one step.\n",
    "\n",
    "Get the above forecast in a single call using pyowm.\n",
    "\n",
    "Hint: search for \"forecast_at_place\" in the code recipies of the documentation"
   ]
  },
  {
   "cell_type": "code",
   "execution_count": 90,
   "id": "01602fb8",
   "metadata": {},
   "outputs": [
    {
     "name": "stdout",
     "output_type": "stream",
     "text": [
      "Time: 2025-04-24 15:00:00+00:00, Temp: 15.15°C\n",
      "Time: 2025-04-24 18:00:00+00:00, Temp: 14.16°C\n",
      "Time: 2025-04-24 21:00:00+00:00, Temp: 11.71°C\n",
      "Time: 2025-04-25 00:00:00+00:00, Temp: 10.25°C\n",
      "Time: 2025-04-25 03:00:00+00:00, Temp: 8.6°C\n",
      "Time: 2025-04-25 06:00:00+00:00, Temp: 7.41°C\n",
      "Time: 2025-04-25 09:00:00+00:00, Temp: 11.93°C\n",
      "Time: 2025-04-25 12:00:00+00:00, Temp: 15.49°C\n",
      "Time: 2025-04-25 15:00:00+00:00, Temp: 15.94°C\n",
      "Time: 2025-04-25 18:00:00+00:00, Temp: 12.68°C\n",
      "Time: 2025-04-25 21:00:00+00:00, Temp: 10.13°C\n",
      "Time: 2025-04-26 00:00:00+00:00, Temp: 8.97°C\n",
      "Time: 2025-04-26 03:00:00+00:00, Temp: 8.25°C\n",
      "Time: 2025-04-26 06:00:00+00:00, Temp: 8.4°C\n",
      "Time: 2025-04-26 09:00:00+00:00, Temp: 12.53°C\n",
      "Time: 2025-04-26 12:00:00+00:00, Temp: 14.73°C\n",
      "Time: 2025-04-26 15:00:00+00:00, Temp: 16.91°C\n",
      "Time: 2025-04-26 18:00:00+00:00, Temp: 14.26°C\n",
      "Time: 2025-04-26 21:00:00+00:00, Temp: 10.94°C\n",
      "Time: 2025-04-27 00:00:00+00:00, Temp: 9.43°C\n",
      "Time: 2025-04-27 03:00:00+00:00, Temp: 8.61°C\n",
      "Time: 2025-04-27 06:00:00+00:00, Temp: 9.4°C\n",
      "Time: 2025-04-27 09:00:00+00:00, Temp: 15.17°C\n",
      "Time: 2025-04-27 12:00:00+00:00, Temp: 18.53°C\n",
      "Time: 2025-04-27 15:00:00+00:00, Temp: 19.45°C\n",
      "Time: 2025-04-27 18:00:00+00:00, Temp: 17.64°C\n",
      "Time: 2025-04-27 21:00:00+00:00, Temp: 15.05°C\n",
      "Time: 2025-04-28 00:00:00+00:00, Temp: 13.04°C\n",
      "Time: 2025-04-28 03:00:00+00:00, Temp: 11.7°C\n",
      "Time: 2025-04-28 06:00:00+00:00, Temp: 12.05°C\n",
      "Time: 2025-04-28 09:00:00+00:00, Temp: 16.5°C\n",
      "Time: 2025-04-28 12:00:00+00:00, Temp: 19.8°C\n",
      "Time: 2025-04-28 15:00:00+00:00, Temp: 20.94°C\n",
      "Time: 2025-04-28 18:00:00+00:00, Temp: 17.56°C\n",
      "Time: 2025-04-28 21:00:00+00:00, Temp: 14.2°C\n",
      "Time: 2025-04-29 00:00:00+00:00, Temp: 12.19°C\n",
      "Time: 2025-04-29 03:00:00+00:00, Temp: 10.88°C\n",
      "Time: 2025-04-29 06:00:00+00:00, Temp: 11.39°C\n",
      "Time: 2025-04-29 09:00:00+00:00, Temp: 17.45°C\n",
      "Time: 2025-04-29 12:00:00+00:00, Temp: 20.91°C\n"
     ]
    }
   ],
   "source": [
    "# Initialize with metric units (optional)\n",
    "mgr = owm.weather_manager()\n",
    "\n",
    "# Fetch 3-hour forecast (free tier)\n",
    "forecast = mgr.forecast_at_place('London', '3h')\n",
    "\n",
    "# Access forecast data\n",
    "forecast_list = forecast.forecast.weathers\n",
    "\n",
    "# Print each entry (similar to your raw API example)\n",
    "for weather in forecast_list:\n",
    "    time = weather.reference_time('iso')  # Get datetime\n",
    "    temp = weather.temperature('celsius')['temp']  # Celsius\n",
    "    print(f\"Time: {time}, Temp: {temp}°C\")"
   ]
  },
  {
   "cell_type": "code",
   "execution_count": 92,
   "id": "11e3c1a8-260d-467c-8f47-793fd62a239b",
   "metadata": {},
   "outputs": [
    {
     "ename": "AttributeError",
     "evalue": "'Forecast' object has no attribute 'forecast'",
     "output_type": "error",
     "traceback": [
      "\u001b[0;31m---------------------------------------------------------------------------\u001b[0m",
      "\u001b[0;31mAttributeError\u001b[0m                            Traceback (most recent call last)",
      "Cell \u001b[0;32mIn[92], line 7\u001b[0m\n\u001b[1;32m      4\u001b[0m forecast \u001b[38;5;241m=\u001b[39m mgr\u001b[38;5;241m.\u001b[39mforecast_at_place(\u001b[38;5;124m'\u001b[39m\u001b[38;5;124mLondon\u001b[39m\u001b[38;5;124m'\u001b[39m, \u001b[38;5;124m'\u001b[39m\u001b[38;5;124m3h\u001b[39m\u001b[38;5;124m'\u001b[39m)\u001b[38;5;241m.\u001b[39mforecast  \u001b[38;5;66;03m# 3-hour forecast\u001b[39;00m\n\u001b[1;32m      6\u001b[0m \u001b[38;5;66;03m# Access forecast data\u001b[39;00m\n\u001b[0;32m----> 7\u001b[0m forecast_list \u001b[38;5;241m=\u001b[39m \u001b[43mforecast\u001b[49m\u001b[38;5;241;43m.\u001b[39;49m\u001b[43mforecast\u001b[49m\u001b[38;5;241m.\u001b[39mweathers\n\u001b[1;32m      9\u001b[0m forecast_list\n\u001b[1;32m     11\u001b[0m \u001b[38;5;66;03m# print(forecast_list)\u001b[39;00m\n",
      "\u001b[0;31mAttributeError\u001b[0m: 'Forecast' object has no attribute 'forecast'"
     ]
    }
   ],
   "source": [
    "#your code here\n",
    "owm = OWM('273c127bdbacc8dd592d2fa9f81d48da')\n",
    "mgr = owm.weather_manager()\n",
    "forecast = mgr.forecast_at_place('London', '3h').forecast  # 3-hour forecast\n",
    "\n",
    "# Access forecast data\n",
    "forecast_list = forecast.forecast.weathers\n",
    "\n",
    "forecast_list\n",
    "\n",
    "# print(forecast_list)\n"
   ]
  },
  {
   "cell_type": "code",
   "execution_count": 86,
   "id": "375e8b9b",
   "metadata": {},
   "outputs": [
    {
     "ename": "NameError",
     "evalue": "name 'forecast_list' is not defined",
     "output_type": "error",
     "traceback": [
      "\u001b[0;31m---------------------------------------------------------------------------\u001b[0m",
      "\u001b[0;31mNameError\u001b[0m                                 Traceback (most recent call last)",
      "Cell \u001b[0;32mIn[86], line 2\u001b[0m\n\u001b[1;32m      1\u001b[0m \u001b[38;5;66;03m# Print each entry (similar to your raw API example)\u001b[39;00m\n\u001b[0;32m----> 2\u001b[0m \u001b[38;5;28;01mfor\u001b[39;00m weather \u001b[38;5;129;01min\u001b[39;00m \u001b[43mforecast_list\u001b[49m:\n\u001b[1;32m      3\u001b[0m     time \u001b[38;5;241m=\u001b[39m weather\u001b[38;5;241m.\u001b[39mreference_time(\u001b[38;5;124m'\u001b[39m\u001b[38;5;124miso\u001b[39m\u001b[38;5;124m'\u001b[39m)  \u001b[38;5;66;03m# Get datetime\u001b[39;00m\n\u001b[1;32m      4\u001b[0m     temp \u001b[38;5;241m=\u001b[39m weather\u001b[38;5;241m.\u001b[39mtemperature(\u001b[38;5;124m'\u001b[39m\u001b[38;5;124mcelsius\u001b[39m\u001b[38;5;124m'\u001b[39m)[\u001b[38;5;124m'\u001b[39m\u001b[38;5;124mtemp\u001b[39m\u001b[38;5;124m'\u001b[39m]  \u001b[38;5;66;03m# Celsius\u001b[39;00m\n",
      "\u001b[0;31mNameError\u001b[0m: name 'forecast_list' is not defined"
     ]
    }
   ],
   "source": [
    "# Print each entry (similar to your raw API example)\n",
    "for weather in forecast_list:\n",
    "    time = weather.reference_time('iso')  # Get datetime\n",
    "    temp = weather.temperature('celsius')['temp']  # Celsius\n",
    "    print(f\"Time: {time}, Temp: {temp}°C\")"
   ]
  },
  {
   "cell_type": "code",
   "execution_count": 89,
   "id": "3ea1ead8",
   "metadata": {},
   "outputs": [
    {
     "ename": "AttributeError",
     "evalue": "'Weather' object has no attribute 'get_reference_time'",
     "output_type": "error",
     "traceback": [
      "\u001b[0;31m---------------------------------------------------------------------------\u001b[0m",
      "\u001b[0;31mAttributeError\u001b[0m                            Traceback (most recent call last)",
      "Cell \u001b[0;32mIn[89], line 3\u001b[0m\n\u001b[1;32m      1\u001b[0m nr_of_weathers \u001b[38;5;241m=\u001b[39m \u001b[38;5;28mlen\u001b[39m(daily_forecast)\n\u001b[1;32m      2\u001b[0m \u001b[38;5;28;01mfor\u001b[39;00m weather \u001b[38;5;129;01min\u001b[39;00m daily_forecast:\n\u001b[0;32m----> 3\u001b[0m     \u001b[43mweather\u001b[49m\u001b[38;5;241;43m.\u001b[39;49m\u001b[43mget_reference_time\u001b[49m(\u001b[38;5;124m'\u001b[39m\u001b[38;5;124miso\u001b[39m\u001b[38;5;124m'\u001b[39m), weather\u001b[38;5;241m.\u001b[39mget_status()  \u001b[38;5;66;03m# ('2020-03-10 14:00:00+0','Clear')\u001b[39;00m\n\u001b[1;32m      4\u001b[0m                                                              \u001b[38;5;66;03m# ('2020-03-11 14:00:00+0','Clouds')\u001b[39;00m\n\u001b[1;32m      5\u001b[0m                                                              \u001b[38;5;66;03m# ('2020-03-12 14:00:00+0','Clouds')\u001b[39;00m\n\u001b[1;32m      6\u001b[0m                                                              \u001b[38;5;66;03m# ...\u001b[39;00m\n",
      "\u001b[0;31mAttributeError\u001b[0m: 'Weather' object has no attribute 'get_reference_time'"
     ]
    }
   ],
   "source": [
    "nr_of_weathers = len(daily_forecast)\n",
    "for weather in daily_forecast:\n",
    "    weather.get_reference_time('iso'), weather.get_status()  # ('2020-03-10 14:00:00+0','Clear')\n",
    "                                                             # ('2020-03-11 14:00:00+0','Clouds')\n",
    "                                                             # ('2020-03-12 14:00:00+0','Clouds')\n",
    "                                                             # ..."
   ]
  },
  {
   "cell_type": "markdown",
   "id": "7ab2b0cc-0d16-4da5-be3e-b8466faecca3",
   "metadata": {},
   "source": [
    "## use case 4: Convenience methods\n",
    "\n",
    "Wrappers often offer built-in methods to handle common kinds of tasks related to the APIs, reducing the need for manual calculations.\n",
    "\n",
    "for example converting units (e.g., temperature from Celsius to Fahrenheit) or working with more complex data requires manual conversion when using the raw API."
   ]
  },
  {
   "cell_type": "code",
   "execution_count": 93,
   "id": "c8e68dad-a503-49cf-9c1e-72e9ed1fab3d",
   "metadata": {},
   "outputs": [
    {
     "name": "stdout",
     "output_type": "stream",
     "text": [
      "Temperature in Celsius: 288.24°C, Fahrenheit: 550.832°F\n"
     ]
    }
   ],
   "source": [
    "city = 'London'\n",
    "url = f'http://api.openweathermap.org/data/2.5/weather?q={city}&appid={api_key}'\n",
    "\n",
    "response = requests.get(url)\n",
    "data = response.json()\n",
    "temperature_celsius = data['main']['temp']\n",
    "temperature_fahrenheit = (temperature_celsius * 9/5) + 32\n",
    "\n",
    "print(f\"Temperature in Celsius: {temperature_celsius}°C, Fahrenheit: {temperature_fahrenheit}°F\")"
   ]
  },
  {
   "cell_type": "markdown",
   "id": "9b05658c-e9cb-491d-8554-ab4d6dd56e1d",
   "metadata": {},
   "source": [
    "But the pyowm wrapper offers built-in methods to handle these kinds of tasks, reducing the need for manual calculations.\n",
    "Get the temperature both in Celcius and Farenheit using pyowm. Navigate the code recipes to figure out the inbuilt methods for this."
   ]
  },
  {
   "cell_type": "code",
   "execution_count": 95,
   "id": "4695bb83-bc35-4c1b-b390-5ea2027984ef",
   "metadata": {},
   "outputs": [
    {
     "name": "stdout",
     "output_type": "stream",
     "text": [
      "Temperature: 18.61°C / 65.5°F\n",
      "Temperature in Celsius: 18.61°C, Fahrenheit: 65.5°F\n"
     ]
    }
   ],
   "source": [
    "#your code here\n",
    "observation = mgr.weather_at_place('Berlin')  # the observation object is a box containing a weather object\n",
    "weather = observation.weather\n",
    "temp_celsius = weather.temperature('celsius')['temp']\n",
    "temp_fahrenheit = weather.temperature('fahrenheit')['temp']\n",
    "\n",
    "print(f\"Temperature: {temp_celsius}°C / {temp_fahrenheit}°F\")\n",
    "print(f\"Temperature in Celsius: {temp_celsius}°C, Fahrenheit: {temp_fahrenheit}°F\")"
   ]
  }
 ],
 "metadata": {
  "kernelspec": {
   "display_name": "datasci_env",
   "language": "python",
   "name": "python3"
  },
  "language_info": {
   "codemirror_mode": {
    "name": "ipython",
    "version": 3
   },
   "file_extension": ".py",
   "mimetype": "text/x-python",
   "name": "python",
   "nbconvert_exporter": "python",
   "pygments_lexer": "ipython3",
   "version": "3.8.20"
  }
 },
 "nbformat": 4,
 "nbformat_minor": 5
}
